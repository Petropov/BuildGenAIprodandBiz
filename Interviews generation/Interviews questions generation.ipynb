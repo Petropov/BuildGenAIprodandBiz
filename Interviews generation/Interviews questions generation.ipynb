{
  "cells": [
    {
      "cell_type": "markdown",
      "id": "8a157fb8",
      "metadata": {
        "id": "8a157fb8"
      },
      "source": [
        "# Interviews questions generation with Open AI"
      ]
    },
    {
      "cell_type": "code",
      "execution_count": 1,
      "metadata": {
        "id": "TFzi1AXbXwMX",
        "outputId": "f6a84be0-0951-4141-8c81-8e67846ac432",
        "colab": {
          "base_uri": "https://localhost:8080/"
        }
      },
      "outputs": [
        {
          "output_type": "stream",
          "name": "stdout",
          "text": [
            "Collecting openai\n",
            "  Downloading openai-1.3.5-py3-none-any.whl (220 kB)\n",
            "\u001b[2K     \u001b[90m━━━━━━━━━━━━━━━━━━━━━━━━━━━━━━━━━━━━━━━━\u001b[0m \u001b[32m220.8/220.8 kB\u001b[0m \u001b[31m3.6 MB/s\u001b[0m eta \u001b[36m0:00:00\u001b[0m\n",
            "\u001b[?25hRequirement already satisfied: anyio<4,>=3.5.0 in /usr/local/lib/python3.10/dist-packages (from openai) (3.7.1)\n",
            "Requirement already satisfied: distro<2,>=1.7.0 in /usr/lib/python3/dist-packages (from openai) (1.7.0)\n",
            "Collecting httpx<1,>=0.23.0 (from openai)\n",
            "  Downloading httpx-0.25.2-py3-none-any.whl (74 kB)\n",
            "\u001b[2K     \u001b[90m━━━━━━━━━━━━━━━━━━━━━━━━━━━━━━━━━━━━━━━━\u001b[0m \u001b[32m75.0/75.0 kB\u001b[0m \u001b[31m8.3 MB/s\u001b[0m eta \u001b[36m0:00:00\u001b[0m\n",
            "\u001b[?25hRequirement already satisfied: pydantic<3,>=1.9.0 in /usr/local/lib/python3.10/dist-packages (from openai) (1.10.13)\n",
            "Requirement already satisfied: tqdm>4 in /usr/local/lib/python3.10/dist-packages (from openai) (4.66.1)\n",
            "Requirement already satisfied: typing-extensions<5,>=4.5 in /usr/local/lib/python3.10/dist-packages (from openai) (4.5.0)\n",
            "Requirement already satisfied: idna>=2.8 in /usr/local/lib/python3.10/dist-packages (from anyio<4,>=3.5.0->openai) (3.4)\n",
            "Requirement already satisfied: sniffio>=1.1 in /usr/local/lib/python3.10/dist-packages (from anyio<4,>=3.5.0->openai) (1.3.0)\n",
            "Requirement already satisfied: exceptiongroup in /usr/local/lib/python3.10/dist-packages (from anyio<4,>=3.5.0->openai) (1.1.3)\n",
            "Requirement already satisfied: certifi in /usr/local/lib/python3.10/dist-packages (from httpx<1,>=0.23.0->openai) (2023.7.22)\n",
            "Collecting httpcore==1.* (from httpx<1,>=0.23.0->openai)\n",
            "  Downloading httpcore-1.0.2-py3-none-any.whl (76 kB)\n",
            "\u001b[2K     \u001b[90m━━━━━━━━━━━━━━━━━━━━━━━━━━━━━━━━━━━━━━━━\u001b[0m \u001b[32m76.9/76.9 kB\u001b[0m \u001b[31m7.8 MB/s\u001b[0m eta \u001b[36m0:00:00\u001b[0m\n",
            "\u001b[?25hCollecting h11<0.15,>=0.13 (from httpcore==1.*->httpx<1,>=0.23.0->openai)\n",
            "  Downloading h11-0.14.0-py3-none-any.whl (58 kB)\n",
            "\u001b[2K     \u001b[90m━━━━━━━━━━━━━━━━━━━━━━━━━━━━━━━━━━━━━━━━\u001b[0m \u001b[32m58.3/58.3 kB\u001b[0m \u001b[31m6.6 MB/s\u001b[0m eta \u001b[36m0:00:00\u001b[0m\n",
            "\u001b[?25hInstalling collected packages: h11, httpcore, httpx, openai\n",
            "\u001b[31mERROR: pip's dependency resolver does not currently take into account all the packages that are installed. This behaviour is the source of the following dependency conflicts.\n",
            "llmx 0.0.15a0 requires cohere, which is not installed.\n",
            "llmx 0.0.15a0 requires tiktoken, which is not installed.\u001b[0m\u001b[31m\n",
            "\u001b[0mSuccessfully installed h11-0.14.0 httpcore-1.0.2 httpx-0.25.2 openai-1.3.5\n",
            "Collecting datetime\n",
            "  Downloading DateTime-5.3-py3-none-any.whl (52 kB)\n",
            "\u001b[2K     \u001b[90m━━━━━━━━━━━━━━━━━━━━━━━━━━━━━━━━━━━━━━━━\u001b[0m \u001b[32m52.2/52.2 kB\u001b[0m \u001b[31m1.3 MB/s\u001b[0m eta \u001b[36m0:00:00\u001b[0m\n",
            "\u001b[?25hCollecting zope.interface (from datetime)\n",
            "  Downloading zope.interface-6.1-cp310-cp310-manylinux_2_5_x86_64.manylinux1_x86_64.manylinux_2_17_x86_64.manylinux2014_x86_64.whl (247 kB)\n",
            "\u001b[2K     \u001b[90m━━━━━━━━━━━━━━━━━━━━━━━━━━━━━━━━━━━━━━━━\u001b[0m \u001b[32m247.1/247.1 kB\u001b[0m \u001b[31m6.5 MB/s\u001b[0m eta \u001b[36m0:00:00\u001b[0m\n",
            "\u001b[?25hRequirement already satisfied: pytz in /usr/local/lib/python3.10/dist-packages (from datetime) (2023.3.post1)\n",
            "Requirement already satisfied: setuptools in /usr/local/lib/python3.10/dist-packages (from zope.interface->datetime) (67.7.2)\n",
            "Installing collected packages: zope.interface, datetime\n",
            "Successfully installed datetime-5.3 zope.interface-6.1\n"
          ]
        }
      ],
      "source": [
        "%pip install openai --upgrade\n",
        "#%pip install dotenv\n",
        "%pip install datetime"
      ],
      "id": "TFzi1AXbXwMX"
    },
    {
      "cell_type": "code",
      "execution_count": 2,
      "id": "e08cdbd6",
      "metadata": {
        "id": "e08cdbd6"
      },
      "outputs": [],
      "source": [
        "# import os,dotenv\n",
        "# from dotenv import load_dotenv\n",
        "import openai"
      ]
    },
    {
      "cell_type": "code",
      "execution_count": 10,
      "id": "55d27ebf",
      "metadata": {
        "id": "55d27ebf"
      },
      "outputs": [],
      "source": [
        "# For local key\n",
        "# Import Key and Base from .env\n",
        "# load_dotenv(\"secrets.env\")\n",
        "# openai.api_key = os.getenv(\"OPENAI_API_KEY\")\n",
        "# openai.organization = os.getenv(\"OPENAI_ORGANIZATION\")\n",
        "\n",
        "# param for have result more deterministic ( 0) or creative (1) you could have step for experimentations like 0.5\n",
        "temperature = 0.5\n",
        "\n",
        "from google.colab import userdata\n",
        "openai.api_key = userdata.get('OPENAI_API_KEY')\n",
        "# openai.organization = userdata.get('OPENAI_ORGANIZATION')\n",
        "\n",
        "\n",
        "\n",
        "# Verify if loading is correct\n",
        "# print(\"OpenAI organization : \" + openai.organization)\n"
      ]
    },
    {
      "cell_type": "markdown",
      "id": "87d3bd2b",
      "metadata": {
        "id": "87d3bd2b"
      },
      "source": [
        "## Function"
      ]
    },
    {
      "cell_type": "code",
      "execution_count": 11,
      "id": "ed7bc8a5",
      "metadata": {
        "id": "ed7bc8a5"
      },
      "outputs": [],
      "source": [
        "def ask(query):\n",
        "\n",
        "    # Create the client with params for OpenAI API\n",
        "\n",
        "    ClientOpenAi = openai.OpenAI(\n",
        "            api_key= openai.api_key,\n",
        "            organization= openai.organization\n",
        "        )\n",
        "    \"\"\"\n",
        "    Data generation with Open AI\n",
        "    \"\"\"\n",
        "    prompt = (\n",
        "        \"\"\"\n",
        "        Create a list of 10 questions for an interview about a candidate.\n",
        "        Just display the results in a numbered list with no additional informations.\n",
        "        Profile is:\n",
        "        \"\"\"\n",
        "        + query\n",
        "    )\n",
        "\n",
        "    response = openai.completions.create(\n",
        "        model=\"gpt-3.5-turbo-instruct\", #we use the gpt 3.5 instruct for this task (the smallest one and only completion)\n",
        "        prompt=prompt,\n",
        "        max_tokens=4000, # max tokens for the response for your ask prompting\n",
        "        temperature=temperature,  # 0 to 1 by  step of 0.1 O deterministic, 1 is very creative\n",
        "    )\n",
        "\n",
        "    result = response.choices[0].text\n",
        "\n",
        "    return result"
      ]
    },
    {
      "cell_type": "markdown",
      "id": "2741001c",
      "metadata": {
        "id": "2741001c"
      },
      "source": [
        "## Testing"
      ]
    },
    {
      "cell_type": "code",
      "execution_count": 14,
      "id": "06fcbfc3",
      "metadata": {
        "id": "06fcbfc3",
        "outputId": "d3294b90-6222-4048-b97b-484563182c04",
        "colab": {
          "base_uri": "https://localhost:8080/"
        }
      },
      "outputs": [
        {
          "output_type": "stream",
          "name": "stdout",
          "text": [
            "\n",
            "\n",
            "\n",
            "1. Can you tell us about your previous experience in the entertainment industry?\n",
            "2. How do you stay updated on current trends and changes in the streaming industry?\n",
            "3. What motivated you to apply for the Strategy Associate position at Netflix?\n",
            "4. Can you walk us through a successful project or strategy you have implemented in the past?\n",
            "5. How do you approach problem-solving and decision-making in a fast-paced and constantly evolving industry?\n",
            "6. Can you give an example of a time when you had to adapt to unexpected challenges in a project?\n",
            "7. How do you prioritize and manage your workload when working on multiple projects at once?\n",
            "8. Can you tell us about a time when you had to present a complex idea or strategy to a team or higher management?\n",
            "9. How do you handle conflicts or disagreements within a team while working towards a common goal?\n",
            "10. What do you think sets Netflix apart from other streaming platforms and how do you see yourself contributing to its success as a Strategy Associate?\n"
          ]
        }
      ],
      "source": [
        "prompt = \"You are a Strategy Associate at Netflix\"\n",
        "print(ask(prompt))"
      ]
    },
    {
      "cell_type": "code",
      "execution_count": 6,
      "id": "208b3fb3",
      "metadata": {
        "id": "208b3fb3",
        "outputId": "7d2b7409-9a0b-45c1-b5b3-c655b7e41c73",
        "colab": {
          "base_uri": "https://localhost:8080/"
        }
      },
      "outputs": [
        {
          "output_type": "stream",
          "name": "stdout",
          "text": [
            " with 10+ years of experience.\n",
            "\n",
            "1. What motivated you to become a data scientist?\n",
            "2. Can you tell us about a particularly challenging project you have worked on in the past?\n",
            "3. How do you approach problem-solving in your work?\n",
            "4. What programming languages and tools are you proficient in?\n",
            "5. How do you stay updated on the latest developments and advancements in the field of data science?\n",
            "6. Can you walk us through your experience with machine learning and artificial intelligence?\n",
            "7. How do you handle large and complex datasets?\n",
            "8. Can you give an example of a time when you had to communicate technical information to a non-technical audience?\n",
            "9. How do you prioritize and manage your workload in a fast-paced environment?\n",
            "10. Can you tell us about a successful project you have completed and the impact it had on the organization?\n"
          ]
        }
      ],
      "source": [
        "prompt = \"You are an advanced data scientist\"\n",
        "print(ask(prompt))"
      ]
    },
    {
      "cell_type": "code",
      "execution_count": 7,
      "id": "2b619547",
      "metadata": {
        "id": "2b619547",
        "outputId": "3db45077-090d-401d-d08a-0ec9104be78e",
        "colab": {
          "base_uri": "https://localhost:8080/"
        }
      },
      "outputs": [
        {
          "output_type": "stream",
          "name": "stdout",
          "text": [
            ".\n",
            "\n",
            "1. Can you tell us about your experience with Deep Learning and how you became an expert in this field?\n",
            "2. What motivated you to specialize in text analytics within the realm of Deep Learning?\n",
            "3. Can you walk us through a successful project you have completed using Deep Learning for text analytics?\n",
            "4. How do you stay updated on the latest advancements and techniques in Deep Learning for text analytics?\n",
            "5. Can you give an example of a challenging problem you encountered while working on a Deep Learning project and how you solved it?\n",
            "6. How do you approach data preprocessing and feature engineering for text data in Deep Learning?\n",
            "7. Can you explain the difference between supervised and unsupervised learning in the context of text analytics using Deep Learning?\n",
            "8. How do you handle imbalanced datasets in Deep Learning for text analytics?\n",
            "9. Can you discuss a time when you had to troubleshoot and debug a Deep Learning model for text analytics?\n",
            "10. How do you see the future of Deep Learning in the field of text analytics and what advancements do you anticipate?\n"
          ]
        }
      ],
      "source": [
        "prompt = \"You are an expert in Deep Learning, especially for text analytics\"\n",
        "print(ask(prompt))"
      ]
    },
    {
      "cell_type": "code",
      "execution_count": 8,
      "id": "d7e63a43",
      "metadata": {
        "id": "d7e63a43",
        "outputId": "1dc55301-a941-4794-d9c2-3aec2f6a7e38",
        "colab": {
          "base_uri": "https://localhost:8080/"
        }
      },
      "outputs": [
        {
          "output_type": "stream",
          "name": "stdout",
          "text": [
            " with 10 years of experience.\n",
            "\n",
            "1. What motivated you to pursue a career in Computer Vision?\n",
            "2. Can you tell us about a particularly challenging project you have worked on in the past?\n",
            "3. How do you stay updated with the latest advancements in Computer Vision technology?\n",
            "4. Can you walk us through your experience with developing algorithms for object detection?\n",
            "5. How do you approach problem-solving in a team setting?\n",
            "6. Can you give an example of a time when you had to troubleshoot and debug a complex computer vision system?\n",
            "7. How do you handle unexpected setbacks or challenges during a project?\n",
            "8. Can you discuss your experience with implementing deep learning techniques in Computer Vision?\n",
            "9. How do you ensure the accuracy and reliability of your computer vision models?\n",
            "10. Can you tell us about a time when you had to communicate technical information to a non-technical audience?\n"
          ]
        }
      ],
      "source": [
        "prompt = \"You are an advanced Computer Vision expert\"\n",
        "print(ask(prompt))"
      ]
    },
    {
      "cell_type": "code",
      "execution_count": 9,
      "id": "ec8d27bc",
      "metadata": {
        "id": "ec8d27bc",
        "outputId": "a0e73b38-e3f4-49a3-fe0d-16e37d98a5de",
        "colab": {
          "base_uri": "https://localhost:8080/"
        }
      },
      "outputs": [
        {
          "output_type": "stream",
          "name": "stdout",
          "text": [
            " with a degree in economics and a passion for investments.\n",
            "\n",
            "1. What inspired you to pursue a career in finance and investments?\n",
            "2. How has your degree in economics prepared you for this role?\n",
            "3. Can you tell us about a successful investment decision you have made in the past?\n",
            "4. How do you stay updated on current market trends and changes?\n",
            "5. How do you handle risk management in your investment strategies?\n",
            "6. Can you walk us through your process for analyzing potential investments?\n",
            "7. How do you prioritize and manage your workload in a fast-paced environment?\n",
            "8. Can you give an example of a time when you had to make a difficult financial decision?\n",
            "9. How do you handle conflicts or disagreements with clients or colleagues?\n",
            "10. What do you see as the biggest challenge facing the financial industry in the next 5 years?\n"
          ]
        }
      ],
      "source": [
        "prompt = \"You are a young financial advisor\"\n",
        "print(ask(prompt))"
      ]
    },
    {
      "cell_type": "code",
      "execution_count": null,
      "id": "ae6be6d4",
      "metadata": {
        "id": "ae6be6d4"
      },
      "outputs": [],
      "source": []
    }
  ],
  "metadata": {
    "kernelspec": {
      "display_name": "Python 3",
      "language": "python",
      "name": "python3"
    },
    "language_info": {
      "codemirror_mode": {
        "name": "ipython",
        "version": 3
      },
      "file_extension": ".py",
      "mimetype": "text/x-python",
      "name": "python",
      "nbconvert_exporter": "python",
      "pygments_lexer": "ipython3",
      "version": "3.11.5"
    },
    "colab": {
      "provenance": [],
      "toc_visible": true
    }
  },
  "nbformat": 4,
  "nbformat_minor": 5
}